{
 "cells": [
  {
   "cell_type": "code",
   "execution_count": 4,
   "id": "19deea7e",
   "metadata": {},
   "outputs": [
    {
     "name": "stdout",
     "output_type": "stream",
     "text": [
      "bir metin giriniz: Bugün Hava Soğuktu \n",
      "['Bugün', 'Hava', 'Soğuktu']\n"
     ]
    }
   ],
   "source": [
    "metin = input(\"bir metin giriniz:\")\n",
    "metin.upper\n",
    "metin.strip\n",
    "metin.replace(\"a\", \"e\")\n",
    "kelimeler = metin.split()\n",
    "print (kelimeler)"
   ]
  },
  {
   "cell_type": "code",
   "execution_count": 9,
   "id": "29a18e99",
   "metadata": {},
   "outputs": [
    {
     "name": "stdout",
     "output_type": "stream",
     "text": [
      "Python programlama dili ilid amalmargorp nohtyP\n"
     ]
    }
   ],
   "source": [
    "#görev2\n",
    "metin = \"Python programlama dili\"\n",
    "ters = metin[::-1]\n",
    "metin2 = metin.replace(\"programlama\", \"kodlama\")\n",
    "print (metin,ters)"
   ]
  },
  {
   "cell_type": "code",
   "execution_count": null,
   "id": "302a6fd8",
   "metadata": {},
   "outputs": [],
   "source": []
  }
 ],
 "metadata": {
  "kernelspec": {
   "display_name": "Python 3 (ipykernel)",
   "language": "python",
   "name": "python3"
  },
  "language_info": {
   "codemirror_mode": {
    "name": "ipython",
    "version": 3
   },
   "file_extension": ".py",
   "mimetype": "text/x-python",
   "name": "python",
   "nbconvert_exporter": "python",
   "pygments_lexer": "ipython3",
   "version": "3.9.12"
  }
 },
 "nbformat": 4,
 "nbformat_minor": 5
}
